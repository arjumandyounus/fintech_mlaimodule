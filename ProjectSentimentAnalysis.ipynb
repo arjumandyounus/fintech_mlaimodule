{
  "nbformat": 4,
  "nbformat_minor": 0,
  "metadata": {
    "colab": {
      "name": "ProjectSentimentAnalysis.ipynb",
      "provenance": [],
      "collapsed_sections": []
    },
    "kernelspec": {
      "name": "python3",
      "display_name": "Python 3"
    },
    "language_info": {
      "name": "python"
    }
  },
  "cells": [
    {
      "cell_type": "code",
      "metadata": {
        "colab": {
          "base_uri": "https://localhost:8080/"
        },
        "id": "lKVCw66_4z5W",
        "outputId": "ed2b95c2-0f9d-4d58-cbdc-2db57e1c8cb0"
      },
      "source": [
        "import pandas as pd\n",
        "\n",
        "text_df=pd.read_csv(\"/content/drive/MyDrive/Colab Notebooks/Semester2MLAI/SAProject/sentiment_newsarticles.csv\")\n",
        "text_df.loc[text_df.shape[0]] = [\"News_12\", None]\n",
        "text_df.loc[text_df.shape[0]] = [\"News_13\", None]\n",
        "text_df.loc[text_df.shape[0]] = [\"News_14\", None]\n",
        "\n",
        "\n",
        "for i in range(1,15):\n",
        "  news_file=open(\"/content/drive/MyDrive/Colab Notebooks/Semester2MLAI/SAProject/news_\"+str(i)+\".txt\",\"r\")\n",
        "  news_text=\"\"\n",
        "  for line in news_file:\n",
        "    line=line.strip()\n",
        "    line=line.replace(\"\\n\",\"\")+\" \"\n",
        "    news_text+=line\n",
        "  text_df.at[i-1,'text'] = news_text\n"
      ],
      "execution_count": 32,
      "outputs": [
        {
          "output_type": "stream",
          "name": "stdout",
          "text": [
            "    Article Sentiment                                               text\n",
            "9   News_10       pos  Elon Musk Is Now Three Times Richer Than Warre...\n",
            "10  News_11       pos  Elon Musk's \"Fanboy\" Bet Nearly Everything On ...\n",
            "11  News_12      None  Tesla shares drop more than 4% after Elon Musk...\n",
            "12  News_13      None  Elon Musk Will Sell 10% Of His Tesla Stock: Po...\n",
            "13  News_14      None  App outage locks hundreds of Tesla drivers out...\n"
          ]
        }
      ]
    }
  ]
}